{
 "cells": [
  {
   "cell_type": "code",
   "execution_count": 3,
   "metadata": {},
   "outputs": [
    {
     "ename": "SyntaxError",
     "evalue": "invalid character in identifier (<ipython-input-3-25f985a8f338>, line 44)",
     "output_type": "error",
     "traceback": [
      "\u001b[1;36m  File \u001b[1;32m\"<ipython-input-3-25f985a8f338>\"\u001b[1;36m, line \u001b[1;32m44\u001b[0m\n\u001b[1;33m    print(os.path.join(img_dir_path,'trimmed',pic[i]))\u001b[0m\n\u001b[1;37m        ^\u001b[0m\n\u001b[1;31mSyntaxError\u001b[0m\u001b[1;31m:\u001b[0m invalid character in identifier\n"
     ]
    }
   ],
   "source": [
    "import os\n",
    "import sys\n",
    "import shutil\n",
    "import tkinter, tkinter.filedialog\n",
    "from PIL import Image\n",
    "\n",
    "def find_all_files(directory):#ディレクトリ以下全てをリスト化する定義\n",
    "    for root, dirs, files in os.walk(directory):\n",
    "        yield root\n",
    "        for file in files:\n",
    "            yield os.path.join(root, file)\n",
    "\n",
    "root = tkinter.Tk()\n",
    "root.withdraw()\n",
    "msg = '画像フォルダーを選択してください。※Exif回転情報が残った画像のみ対応'\n",
    "img_dir_path = tkinter.filedialog.askdirectory(title=msg)\n",
    "if (not img_dir_path): #[キャンセル]クリック時の処理\n",
    "    print('フォルダーを選んでください。')\n",
    "    sys.exit()\n",
    "\n",
    "os.makedirs(os.path.join(img_dir_path, 'trimmed'), exist_ok=True)\n",
    "\n",
    "pic = []\n",
    "\n",
    "for file in find_all_files(img_dir_path):\n",
    "    pic.append(file)\n",
    "    \n",
    "#特定のファイル名が含まれるパスがリスト化されます\n",
    "pic = [s for s in pic if 'JPG' in s]    \n",
    "print(len(pic))\n",
    "\n",
    "i = 0\n",
    "while i < len(pic):\n",
    "    img = Image.open(pic[i])\n",
    "    w_img, h_img = img.size\n",
    "    \n",
    "    if not (int(w_img))/(int(h_img)) == 1.5:#3：2でなかった場合\n",
    "            \n",
    "        print(pic[i])\n",
    "        X1 = (int(w_img) - int(h_img)*1.5)*0.5\n",
    "        X2 = (int(w_img)) - int(X1)\n",
    "    \n",
    "        img.crop((int(X1), 0, int(X2), int(h_img))).save(os.path.join(img_dir_path,'trimmed',pic[i]), quality=100, exif=img.info['exif'],  dpi=(300, 300))\n",
    "                                                   .save(os.path.join(img_dir_path, folder_list[h],output_folder,str(folder_list[h])+\"_00\"+str(i)+\".jpg\"), quality=100, dpi=(300, 300))\n",
    "\n",
    "    i = i + 1\n",
    "    percentage = ((int(i)/int(len(pic))*100))\n",
    "    print(str(round(percentage, 1)) + '％完了')\n",
    "\n",
    "#ここまで\n",
    "root.quit()\n",
    "exit()\n",
    "\n",
    "\n",
    "\n",
    "\n",
    "\n"
   ]
  },
  {
   "cell_type": "code",
   "execution_count": null,
   "metadata": {},
   "outputs": [],
   "source": []
  }
 ],
 "metadata": {
  "kernelspec": {
   "display_name": "Python 3",
   "language": "python",
   "name": "python3"
  },
  "language_info": {
   "codemirror_mode": {
    "name": "ipython",
    "version": 3
   },
   "file_extension": ".py",
   "mimetype": "text/x-python",
   "name": "python",
   "nbconvert_exporter": "python",
   "pygments_lexer": "ipython3",
   "version": "3.7.3"
  }
 },
 "nbformat": 4,
 "nbformat_minor": 2
}
